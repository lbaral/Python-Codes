{
 "cells": [
  {
   "cell_type": "code",
   "execution_count": 1,
   "metadata": {},
   "outputs": [],
   "source": [
    "import pandas as pd\n",
    "import sqlalchemy as sql\n",
    "import pyodbc as pyo\n",
    "import numpy as np"
   ]
  },
  {
   "cell_type": "code",
   "execution_count": 2,
   "metadata": {},
   "outputs": [],
   "source": [
    "server = 'CALUMO-949324'\n",
    "driver = 'SQL+Server'\n",
    "db = 'Calumo'\n",
    "myQuery = '''SELECT *from Users'''\n",
    "engine = sql.create_engine('mssql+pyodbc://{}/{}?driver={}'.format(server, db, driver))\n",
    "Users = pd.read_sql_query(myQuery, engine)"
   ]
  },
  {
   "cell_type": "code",
   "execution_count": 3,
   "metadata": {},
   "outputs": [],
   "source": [
    "myQuery2 = '''SELECT *from ReportPerformanceEvent'''"
   ]
  },
  {
   "cell_type": "code",
   "execution_count": 4,
   "metadata": {},
   "outputs": [],
   "source": [
    "RPF = pd.read_sql_query(myQuery2, engine)"
   ]
  },
  {
   "cell_type": "code",
   "execution_count": 5,
   "metadata": {},
   "outputs": [],
   "source": [
    "myQuery3 = 'Select * from UserGroups'"
   ]
  },
  {
   "cell_type": "code",
   "execution_count": 6,
   "metadata": {},
   "outputs": [],
   "source": [
    "UG = pd.read_sql_query(myQuery3, engine)"
   ]
  },
  {
   "cell_type": "raw",
   "metadata": {},
   "source": [
    "Three DataFrames Users, Report Perfromance Event, User Groups (Users, RPF, UG)"
   ]
  },
  {
   "cell_type": "code",
   "execution_count": 7,
   "metadata": {},
   "outputs": [],
   "source": [
    "intrim = Users.merge(RPF,left_on='LoginID', right_on='UserName')\n"
   ]
  },
  {
   "cell_type": "code",
   "execution_count": 8,
   "metadata": {},
   "outputs": [],
   "source": [
    "pd.set_option('display.max_columns', 50)"
   ]
  },
  {
   "cell_type": "code",
   "execution_count": 9,
   "metadata": {},
   "outputs": [],
   "source": [
    "df =intrim.merge(UG,left_on='Id_x', right_on='UserID').rename(columns={'LoginID':'userLogin','Id_x':'UserKey'})\n"
   ]
  },
  {
   "cell_type": "code",
   "execution_count": 10,
   "metadata": {},
   "outputs": [],
   "source": [
    "Name = df['FirstName'] +\" \" + df['LastName']"
   ]
  },
  {
   "cell_type": "code",
   "execution_count": 11,
   "metadata": {},
   "outputs": [],
   "source": [
    "df.insert(1,\"Name\",Name)"
   ]
  },
  {
   "cell_type": "code",
   "execution_count": 12,
   "metadata": {},
   "outputs": [],
   "source": [
    "CurrentUser = df['IsDeleted'] == 0"
   ]
  },
  {
   "cell_type": "code",
   "execution_count": 13,
   "metadata": {},
   "outputs": [
    {
     "data": {
      "text/plain": [
       "True     63489\n",
       "False    11656\n",
       "Name: IsDeleted, dtype: int64"
      ]
     },
     "execution_count": 13,
     "metadata": {},
     "output_type": "execute_result"
    }
   ],
   "source": [
    "CurrentUser.value_counts()"
   ]
  },
  {
   "cell_type": "code",
   "execution_count": 16,
   "metadata": {},
   "outputs": [],
   "source": [
    "df = df[(df['IsDeleted'] == 0) & (df['Name'].notna())]"
   ]
  },
  {
   "cell_type": "code",
   "execution_count": 17,
   "metadata": {},
   "outputs": [
    {
     "data": {
      "text/html": [
       "<div>\n",
       "<style scoped>\n",
       "    .dataframe tbody tr th:only-of-type {\n",
       "        vertical-align: middle;\n",
       "    }\n",
       "\n",
       "    .dataframe tbody tr th {\n",
       "        vertical-align: top;\n",
       "    }\n",
       "\n",
       "    .dataframe thead th {\n",
       "        text-align: right;\n",
       "    }\n",
       "</style>\n",
       "<table border=\"1\" class=\"dataframe\">\n",
       "  <thead>\n",
       "    <tr style=\"text-align: right;\">\n",
       "      <th></th>\n",
       "      <th></th>\n",
       "      <th></th>\n",
       "      <th>UsageCount</th>\n",
       "    </tr>\n",
       "    <tr>\n",
       "      <th>Name</th>\n",
       "      <th>Email</th>\n",
       "      <th>UserKey</th>\n",
       "      <th></th>\n",
       "    </tr>\n",
       "  </thead>\n",
       "  <tbody>\n",
       "    <tr>\n",
       "      <th>Casey Centenera</th>\n",
       "      <th>casey.centenera@artscentremelbourne.com.au</th>\n",
       "      <th>9</th>\n",
       "      <td>10005</td>\n",
       "    </tr>\n",
       "    <tr>\n",
       "      <th>Chris Kim</th>\n",
       "      <th>ckim@calumo.com</th>\n",
       "      <th>23</th>\n",
       "      <td>4</td>\n",
       "    </tr>\n",
       "    <tr>\n",
       "      <th>David Elsey</th>\n",
       "      <th>delsey@calumo.com</th>\n",
       "      <th>4</th>\n",
       "      <td>169</td>\n",
       "    </tr>\n",
       "    <tr>\n",
       "      <th>Geoffrey Gillian</th>\n",
       "      <th>ggillian@calumo.com</th>\n",
       "      <th>19</th>\n",
       "      <td>270</td>\n",
       "    </tr>\n",
       "    <tr>\n",
       "      <th>James Lockyer</th>\n",
       "      <th>james.lockyer@artscentremelbourne.com.au</th>\n",
       "      <th>10</th>\n",
       "      <td>273</td>\n",
       "    </tr>\n",
       "    <tr>\n",
       "      <th>James Summerton</th>\n",
       "      <th>jsummerton@calumo.com</th>\n",
       "      <th>1</th>\n",
       "      <td>13</td>\n",
       "    </tr>\n",
       "    <tr>\n",
       "      <th>Jamie McMillan</th>\n",
       "      <th>jamie.mcmillan@artscentremelbourne.com.au</th>\n",
       "      <th>12</th>\n",
       "      <td>10952</td>\n",
       "    </tr>\n",
       "    <tr>\n",
       "      <th>Jessie Greig</th>\n",
       "      <th>jessie.greig@artscentremelbourne.com.au</th>\n",
       "      <th>14</th>\n",
       "      <td>14056</td>\n",
       "    </tr>\n",
       "    <tr>\n",
       "      <th>Kate Tayler</th>\n",
       "      <th>kate.tayler@artscentremelbourne.com.au</th>\n",
       "      <th>7</th>\n",
       "      <td>3612</td>\n",
       "    </tr>\n",
       "    <tr>\n",
       "      <th>Lena Gorov</th>\n",
       "      <th>lgorov@calumo.com</th>\n",
       "      <th>3</th>\n",
       "      <td>9106</td>\n",
       "    </tr>\n",
       "    <tr>\n",
       "      <th>Michael Rigg</th>\n",
       "      <th>michael.rigg@artscentremelbourne.com.au</th>\n",
       "      <th>11</th>\n",
       "      <td>2775</td>\n",
       "    </tr>\n",
       "    <tr>\n",
       "      <th>Mike Henegan</th>\n",
       "      <th>mhenegan@calumo.com</th>\n",
       "      <th>2</th>\n",
       "      <td>490</td>\n",
       "    </tr>\n",
       "    <tr>\n",
       "      <th>Paul Cavanagh-Downs</th>\n",
       "      <th>pcavanaghdowns@calumo.com</th>\n",
       "      <th>5</th>\n",
       "      <td>6</td>\n",
       "    </tr>\n",
       "    <tr>\n",
       "      <th>Peter van der Woude</th>\n",
       "      <th>pvanderwoude@calumo.com</th>\n",
       "      <th>20</th>\n",
       "      <td>7</td>\n",
       "    </tr>\n",
       "    <tr>\n",
       "      <th>Phoebe Phuah</th>\n",
       "      <th>phoebe.phuah@artscentremelbourne.com.au</th>\n",
       "      <th>16</th>\n",
       "      <td>7269</td>\n",
       "    </tr>\n",
       "    <tr>\n",
       "      <th>Sarah Williams</th>\n",
       "      <th>sarah.williams@artscentremelbourne.com.au</th>\n",
       "      <th>18</th>\n",
       "      <td>148</td>\n",
       "    </tr>\n",
       "    <tr>\n",
       "      <th>Thilini Perera</th>\n",
       "      <th>thilini.perera@artscentremelbourne.com.au</th>\n",
       "      <th>17</th>\n",
       "      <td>4320</td>\n",
       "    </tr>\n",
       "    <tr>\n",
       "      <th>Vikas Khanna</th>\n",
       "      <th>vikas.khanna@artscentremelbourne.com.au</th>\n",
       "      <th>6</th>\n",
       "      <td>14</td>\n",
       "    </tr>\n",
       "  </tbody>\n",
       "</table>\n",
       "</div>"
      ],
      "text/plain": [
       "                                                                        UsageCount\n",
       "Name                Email                                      UserKey            \n",
       "Casey Centenera     casey.centenera@artscentremelbourne.com.au 9             10005\n",
       "Chris Kim           ckim@calumo.com                            23                4\n",
       "David Elsey         delsey@calumo.com                          4               169\n",
       "Geoffrey Gillian    ggillian@calumo.com                        19              270\n",
       "James Lockyer       james.lockyer@artscentremelbourne.com.au   10              273\n",
       "James Summerton     jsummerton@calumo.com                      1                13\n",
       "Jamie McMillan      jamie.mcmillan@artscentremelbourne.com.au  12            10952\n",
       "Jessie Greig        jessie.greig@artscentremelbourne.com.au    14            14056\n",
       "Kate Tayler         kate.tayler@artscentremelbourne.com.au     7              3612\n",
       "Lena Gorov          lgorov@calumo.com                          3              9106\n",
       "Michael Rigg        michael.rigg@artscentremelbourne.com.au    11             2775\n",
       "Mike Henegan        mhenegan@calumo.com                        2               490\n",
       "Paul Cavanagh-Downs pcavanaghdowns@calumo.com                  5                 6\n",
       "Peter van der Woude pvanderwoude@calumo.com                    20                7\n",
       "Phoebe Phuah        phoebe.phuah@artscentremelbourne.com.au    16             7269\n",
       "Sarah Williams      sarah.williams@artscentremelbourne.com.au  18              148\n",
       "Thilini Perera      thilini.perera@artscentremelbourne.com.au  17             4320\n",
       "Vikas Khanna        vikas.khanna@artscentremelbourne.com.au    6                14"
      ]
     },
     "execution_count": 17,
     "metadata": {},
     "output_type": "execute_result"
    }
   ],
   "source": [
    "df.groupby (['Name', 'Email','UserKey']).agg({'Id_y':np.size}).rename(columns={'Id_y':'UsageCount'})"
   ]
  },
  {
   "cell_type": "markdown",
   "metadata": {},
   "source": [
    "SQL"
   ]
  },
  {
   "cell_type": "markdown",
   "metadata": {},
   "source": [
    "BEGIN\n",
    "SELECT \n",
    "U.FirstName + ' ' + U.LastName as UserName\n",
    ",' ' + ISNULL(CONVERT(CHAR(11), CONVERT(datetime, SWITCHOFFSET(MIN(EventTime), DATEPART(TZOFFSET, \n",
    "\t\tMIN(EventTime) AT TIME ZONE 'AUS Eastern Standard Time'))), 113),'-') as FirstUsedTime\n",
    ",' ' + ISNULL(CONVERT(CHAR(11), CONVERT(datetime, SWITCHOFFSET(MAX(EventTime), DATEPART(TZOFFSET, \n",
    "\t\tMAX(EventTime) AT TIME ZONE 'AUS Eastern Standard Time'))), 113),'-') as LastUsedTime\n",
    ",COUNT(rpe.Id) as UsageCount\n",
    ",u.LoginID as userLogin\n",
    ",u.Email as userEmail\n",
    ",u.Id as userKey\n",
    "FROM Users u with (nolock) \n",
    "LEFT JOIN ReportPerformanceEvent  rpe with (nolock) on u.LoginID = rpe.UserName\n",
    "WHERE UserName IS NOT NULL\n",
    " AND u.IsDeleted = 0\n",
    "GROUP BY UserName, u.isDeleted, u.LoginID, u.Email, u.Id, u.FirstName, u.LastName\n",
    "ORDER BY UserName\n",
    "END\n",
    "GO"
   ]
  }
 ],
 "metadata": {
  "kernelspec": {
   "display_name": "Python 3",
   "language": "python",
   "name": "python3"
  },
  "language_info": {
   "codemirror_mode": {
    "name": "ipython",
    "version": 3
   },
   "file_extension": ".py",
   "mimetype": "text/x-python",
   "name": "python",
   "nbconvert_exporter": "python",
   "pygments_lexer": "ipython3",
   "version": "3.7.4"
  }
 },
 "nbformat": 4,
 "nbformat_minor": 2
}
