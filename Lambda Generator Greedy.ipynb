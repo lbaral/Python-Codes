{
 "cells": [
  {
   "cell_type": "code",
   "execution_count": 1,
   "metadata": {},
   "outputs": [
    {
     "name": "stdout",
     "output_type": "stream",
     "text": [
      "([0], [1])\n"
     ]
    }
   ],
   "source": [
    "items = [1,2,3,4]\n",
    "def filltwobags():\n",
    "    bag1 = list([])\n",
    "    bag2 = list([])\n",
    "    \n",
    "    for i in range(2):\n",
    "        if i/2 == 0:\n",
    "            bag1.append(i)\n",
    "        else:\n",
    "            bag2.append(i)\n",
    "            \n",
    "    yield (bag1, bag2)\n",
    "            \n",
    "    \n",
    "    \n",
    "            \n",
    "            \n",
    "g = filltwobags()\n",
    "for i in g:\n",
    "    print (i)"
   ]
  },
  {
   "cell_type": "code",
   "execution_count": 2,
   "metadata": {},
   "outputs": [
    {
     "name": "stdout",
     "output_type": "stream",
     "text": [
      "1\n"
     ]
    }
   ],
   "source": [
    "\n",
    "def counts(max):\n",
    "    count = 1\n",
    "    while count<max:\n",
    "        yield count\n",
    "        count += 1\n",
    "        \n",
    "g = counts(2)\n",
    "\n",
    "\n",
    "\n",
    "for i in g:\n",
    "    print(i)"
   ]
  },
  {
   "cell_type": "code",
   "execution_count": 11,
   "metadata": {},
   "outputs": [
    {
     "data": {
      "text/plain": [
       "[['A', 'b'], ['c']]"
      ]
     },
     "execution_count": 11,
     "metadata": {},
     "output_type": "execute_result"
    }
   ],
   "source": [
    "cows = {'A':50,'b':40,'c':20}\n",
    "\n",
    "def greedy_cow_transport(cows,limit = 100):\n",
    "    \n",
    "    train = []\n",
    "    cows = sorted(cows.items(), key=lambda c: c[1], reverse = True)\n",
    "   \n",
    "    while len(cows) > 0:\n",
    "        sum = 0\n",
    "        car = []\n",
    "        for c in cows[:]:\n",
    "             \n",
    "            if (sum + c[1]) <= limit:\n",
    "                car.append(c[0])\n",
    "                cows.remove(c)\n",
    "                sum = sum + c[1]\n",
    "            \n",
    "                \n",
    "                \n",
    "        train.append(car)\n",
    "    return train\n",
    "greedy_cow_transport(cows)"
   ]
  },
  {
   "cell_type": "code",
   "execution_count": 17,
   "metadata": {},
   "outputs": [
    {
     "data": {
      "text/plain": [
       "[('Jesse', 6), ('Maggie', 5), ('Maybel', 3), ('Callie', 2)]"
      ]
     },
     "execution_count": 17,
     "metadata": {},
     "output_type": "execute_result"
    }
   ],
   "source": [
    "cows = {\"Jesse\": 6, \"Maybel\": 3, \"Callie\": 2, \"Maggie\": 5}\n",
    "def brute_force_cow_transport(cows,limit=10):\n",
    "    cows = sorted(cows.items(),key = lambda x: x[1], reverse = True)\n",
    "    return cows\n",
    "\n",
    "brute_force_cow_transport(cows)\n",
    "    \n",
    "   "
   ]
  },
  {
   "cell_type": "markdown",
   "metadata": {},
   "source": [
    "The power of lambda is better shown when you use them as an anonymous function inside another function.\n",
    "\n",
    "Say you have a function definition that takes one argument, and that argument will be multiplied with an unknown number:"
   ]
  },
  {
   "cell_type": "code",
   "execution_count": null,
   "metadata": {
    "collapsed": true
   },
   "outputs": [],
   "source": [
    "def myfunc(n):\n",
    "  return lambda a : a * n\n",
    "\n",
    "mydoubler = myfunc(2)\n",
    "mytripler = myfunc(3)\n",
    "\n",
    "print(mydoubler(11)) \n",
    "print(mytripler(11))"
   ]
  }
 ],
 "metadata": {
  "kernelspec": {
   "display_name": "Python 3",
   "language": "python",
   "name": "python3"
  },
  "language_info": {
   "codemirror_mode": {
    "name": "ipython",
    "version": 3
   },
   "file_extension": ".py",
   "mimetype": "text/x-python",
   "name": "python",
   "nbconvert_exporter": "python",
   "pygments_lexer": "ipython3",
   "version": "3.6.3"
  }
 },
 "nbformat": 4,
 "nbformat_minor": 2
}
